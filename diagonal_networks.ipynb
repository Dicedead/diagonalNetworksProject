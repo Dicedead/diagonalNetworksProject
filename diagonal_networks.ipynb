{
 "cells": [
  {
   "cell_type": "markdown",
   "id": "be25d2de-3591-4dba-9c6f-0ec7dd69902b",
   "metadata": {},
   "source": [
    "# Implicit Bias of SGD for Diagonal Linear Networks - Simulations"
   ]
  },
  {
   "cell_type": "code",
   "execution_count": 65,
   "id": "0f29f3cb-2be2-44bd-8344-0a5e08356202",
   "metadata": {},
   "outputs": [],
   "source": [
    "# Preliminary imports\n",
    "import numpy as np\n",
    "import scipy.linalg as sp\n",
    "from random import randint\n",
    "%matplotlib notebook\n",
    "%matplotlib inline\n",
    "from matplotlib import pyplot as plt\n",
    "from tqdm import tqdm, trange"
   ]
  },
  {
   "cell_type": "markdown",
   "id": "1037aff5-b3da-4eea-b88b-0076574acf85",
   "metadata": {},
   "source": [
    "Reference EPFL paper from Scott Pesme, Loucas Pillaud-Vivien and Nicolas Flammarion from the 35th Conference  on Neural Information Processing Systems (NeurIPS 2021): [link.](https://proceedings.neurips.cc/paper/2021/file/f4661398cb1a3abd3ffe58600bf11322-Paper.pdf)\n",
    "\n",
    "In this notebook, we recreate the paper's authors' results numerically, plotting the resulting gradients and its marginals. Since the SGF converges to a sparse solution, we expect marginals of the SGD's solution to exhibit a delta at 0.\n",
    "\n",
    "Setting up the computations:\n",
    "Firstly, we compute the nonlinear parametrisation:\n",
    "$$\n",
    "\\beta_w = \\beta(w) = w_{+}^2 - w_{-}^2 \\in \\mathbb{R}^d\n",
    "$$\n",
    "where\n",
    "$$\n",
    "w = \\begin{bmatrix}w_+ \\\\ w_- \\end{bmatrix} \\in \\mathbb{R}^{2d} \\ \\text{and } u\\in \\mathbb{R}^d \\implies u^2 = u \\odot u \\in \\mathbb{R}^d\n",
    "$$"
   ]
  },
  {
   "cell_type": "code",
   "execution_count": 66,
   "id": "58cbec0e-6a6e-4342-aa95-f9662b403541",
   "metadata": {},
   "outputs": [],
   "source": [
    "def b_w(w_upper, w_lower):\n",
    "    \"\"\"\n",
    "    Nonlinear parametrisation computation\n",
    "    Arguments:\n",
    "    - w_upper: d dimensional numpy array, upper half of the gradient\n",
    "    - w_lower: d dimensional numpy array, lower half of the gradient\n",
    "    \n",
    "    Output:\n",
    "    d dimensional parametrisation of the gradient\n",
    "    \"\"\"\n",
    "    return w_upper ** 2 - w_lower ** 2"
   ]
  },
  {
   "cell_type": "markdown",
   "id": "2967a678-8d89-4dc1-828d-d3c69a724656",
   "metadata": {},
   "source": [
    "We will compute an SGD gradient step using:\n",
    "$$\n",
    "w_{t+1,\\pm} = w_{t,\\pm}\\mp\\gamma\\langle\\beta_{w_t}-\\beta^*, x_{i_t}\\rangle x_{i_t} \\odot w_{t, \\pm}\n",
    "$$\n",
    "where \n",
    "$$\n",
    "X\\beta^* = y\n",
    "$$\n",
    "and\n",
    "$$\n",
    "i_t \\sim \\text{DiscreteUnif}[1,n]\n",
    "$$"
   ]
  },
  {
   "cell_type": "code",
   "execution_count": 67,
   "id": "e5a2a22d-d0c4-4940-878a-79664cf39c7d",
   "metadata": {},
   "outputs": [],
   "source": [
    "def stochastic_gradient_step(w_upper, w_lower, s, X, beta, sample_i=None):\n",
    "    \"\"\"\n",
    "    Computes one gradient step for a random sample.\n",
    "    Arguments:\n",
    "    - Current gradient as (w_upper, w_lower) - each being d dimensional np arrays\n",
    "    - s: step size, double\n",
    "    - X: input data, n x d\n",
    "    - beta: interpolating parameter, d dimensional\n",
    "    \n",
    "    Output:\n",
    "    Gradient as the two components of a 2-uple\n",
    "    \"\"\"\n",
    "    x_i = X[randint(0, X.shape[0]-1) if sample_i is None else sample_i]\n",
    "    k = s * ((b_w(w_upper, w_lower) - beta) @ x_i)\n",
    "    return (w_upper - k * (x_i * w_upper), w_lower + k * (x_i * w_lower))"
   ]
  },
  {
   "cell_type": "markdown",
   "id": "d29ba8eb-b364-44e1-84ac-4f4ba6c2ff57",
   "metadata": {},
   "source": [
    "Making sure this code is okay so far:"
   ]
  },
  {
   "cell_type": "code",
   "execution_count": 68,
   "id": "039995b8-0add-4369-a1a0-4166cc52d3d4",
   "metadata": {},
   "outputs": [
    {
     "name": "stdout",
     "output_type": "stream",
     "text": [
      "b_w correctly computed [-8 -5].\n"
     ]
    }
   ],
   "source": [
    "u = np.array([1, 2])\n",
    "v = np.array([3, 3])\n",
    "uv_expected = np.array([1-9, 4-9])\n",
    "uv_computed = b_w(u,v)\n",
    "\n",
    "if np.ma.allequal(uv_expected,uv_computed):\n",
    "    print(f\"b_w correctly computed {uv_expected}.\")\n",
    "else:\n",
    "    print(f\"Error in b_w: computed {uv_computed}, expected {uv_expected}.\")"
   ]
  },
  {
   "cell_type": "code",
   "execution_count": 69,
   "id": "629edf6d-a627-4bbd-9b24-f9bb3966f547",
   "metadata": {},
   "outputs": [
    {
     "name": "stdout",
     "output_type": "stream",
     "text": [
      "gradient_step correctly computed [ 60. 179.] and [-174.  -262.5].\n"
     ]
    }
   ],
   "source": [
    "s = 0.5\n",
    "x = np.array([2, 3])\n",
    "beta = np.array([5, 6])\n",
    "grad_uv_expected_high, grad_uv_expected_low = np.array([60, 179]), np.array([-174, -262.5])\n",
    "grad_uv_computed_high, grad_uv_computed_low = stochastic_gradient_step(u, v, s, np.array([x.T]), beta)\n",
    "\n",
    "comparison_up = np.allclose(grad_uv_expected_high, grad_uv_computed_high)\n",
    "comparison_low = np.allclose(grad_uv_expected_low, grad_uv_computed_low)\n",
    "\n",
    "if comparison_up and comparison_low:\n",
    "    print(f\"gradient_step correctly computed {grad_uv_computed_high} and {grad_uv_computed_low}.\")\n",
    "else:\n",
    "    print(f\"Error in gradient_step:\")\n",
    "    print(f\"computed upper {grad_uv_computed_high}, expected {grad_uv_expected_high};\")\n",
    "    print(f\"computed lower {grad_uv_computed_low}, expected {grad_uv_expected_low}.\")"
   ]
  },
  {
   "cell_type": "markdown",
   "id": "e62734a0-d080-4794-af50-fc257076d941",
   "metadata": {},
   "source": [
    "Additionnally, we define the full gradient and perform a full gradient step:"
   ]
  },
  {
   "cell_type": "markdown",
   "id": "c484039d-8bb8-4c2e-bf26-d6b40f0b60cf",
   "metadata": {},
   "source": [
    "$$\n",
    "\\nabla_{w_\\pm}L(w) = \\pm\\left[\\frac{1}{n}X^TX(\\beta_w - \\beta^*)\\right] \\odot w_{\\pm}\n",
    "$$\n",
    "$$\n",
    "w_{t+1} = w_t - \\gamma \\nabla_{w}L(w_t)\n",
    "$$"
   ]
  },
  {
   "cell_type": "code",
   "execution_count": 1,
   "id": "90d92e52-6a39-4395-8fd9-ad2739e71755",
   "metadata": {},
   "outputs": [],
   "source": [
    "def full_gradient_step(w_upper, w_lower, s, X, beta):\n",
    "    \"\"\"\n",
    "    Computes one gradient step over all samples.\n",
    "    Arguments:\n",
    "    - Current gradient as (w_upper, w_lower) - each being d dimensional np arrays\n",
    "    - s: step size, double\n",
    "    - X: input data, n x d\n",
    "    - beta: interpolating parameter, d dimensional\n",
    "    \n",
    "    Output:\n",
    "    Gradient as the two components of a 2-uple\n",
    "    \"\"\"\n",
    "    common = s * (X.T @ (X @ ((b_w(w_upper, w_lower) - beta)/n)))\n",
    "    return (w_upper - common * w_upper, w_lower + common * w_lower)"
   ]
  },
  {
   "cell_type": "markdown",
   "id": "d6e21bc5-450d-46ce-862d-4a040b958eeb",
   "metadata": {},
   "source": [
    "Now, we generate $n$ gaussian $d$ dimensional input samples:"
   ]
  },
  {
   "cell_type": "code",
   "execution_count": 71,
   "id": "86032f05-a1d0-4d07-aa2a-d0d4625325f2",
   "metadata": {},
   "outputs": [],
   "source": [
    "def generate_inputs(n, d, mean=0.0, std=1.0):\n",
    "    \"\"\"\n",
    "    Generate a n x d matrix with entries ~ N(mean, std). Input samples are lines of this matrix.\n",
    "    \"\"\"\n",
    "    return np.random.normal(loc=mean, scale=std, size=(n , d))"
   ]
  },
  {
   "cell_type": "code",
   "execution_count": 72,
   "id": "5bf5291b-0c4e-475a-bb14-0c96bacf12ab",
   "metadata": {},
   "outputs": [
    {
     "name": "stdout",
     "output_type": "stream",
     "text": [
      "[[ 0.68117266  0.02653065 -0.89305429]\n",
      " [ 0.99696813  1.03206332  0.60134802]]\n"
     ]
    }
   ],
   "source": [
    "print(generate_inputs(2, 3))"
   ]
  },
  {
   "cell_type": "markdown",
   "id": "4bdaa1ba-0a12-400b-a3bd-75cd5e21353e",
   "metadata": {},
   "source": [
    "Next, generate an initialisation parameter $\\alpha \\in (\\mathbb{R}_+^*)^d$ uniformly, recalling that:\n",
    "- \"Small initialisations lead to low $l_1$-norm solutions\" with good generalisation properties (rich regime);\n",
    "- \"Large initialisations lead to low $l_2$-norm solutions\" (kernel or lazy regime)."
   ]
  },
  {
   "cell_type": "code",
   "execution_count": 73,
   "id": "76444822-be9e-4471-9e33-19f0f230b95f",
   "metadata": {},
   "outputs": [],
   "source": [
    "def generate_unif(min_value, max_value, d):\n",
    "    \"\"\"\n",
    "    Generate a uniformly distributed d dimensional array with components in [min_value, max_value].\n",
    "    \"\"\"\n",
    "    return np.random.uniform(min_value, max_value, size=(d,))"
   ]
  },
  {
   "cell_type": "code",
   "execution_count": 74,
   "id": "4fa4228e-46b5-45d3-827f-554f21f63a68",
   "metadata": {},
   "outputs": [
    {
     "name": "stdout",
     "output_type": "stream",
     "text": [
      "[0.02984675 0.04063206 0.02490984]\n"
     ]
    }
   ],
   "source": [
    "print(generate_unif(0.01, 0.05, 3))"
   ]
  },
  {
   "cell_type": "markdown",
   "id": "7b148258-dca2-4c05-9f72-6c55e1081867",
   "metadata": {},
   "source": [
    "We can generate $\\beta^*$ with the same function as $\\alpha$ (at least for now). Finally, we compute an adequate step size $\\gamma$ in order to apply Theorem 1, page 6 from the main paper:\n",
    "$$\n",
    "\\gamma \\leq O\\left(\\left[\\ln\\left(\\frac{4}{p}\\right)\\lambda_{\\text{max}}\\max\\left\\{||\\beta_{l_1}^*||_1\\ln\\left(\\frac{||\\beta_{l_1}^*||}{\\min_i \\alpha_i^2}\\right), ||\\alpha||_2^2\\right\\}\\right]^{-1}\\right)\n",
    "$$"
   ]
  },
  {
   "cell_type": "code",
   "execution_count": 75,
   "id": "eaef7e69-1e3d-4602-af36-31d5b1dc29d4",
   "metadata": {},
   "outputs": [],
   "source": [
    "def generate_gamma(p, X, a, b, safety_factor = 0.5):\n",
    "    \"\"\"\n",
    "    Generate a step size within the conditions of theorem 1.\n",
    "    \n",
    "    Important note: 1-p and NOT p is the probability of converging to the presented solution.\n",
    "    \"\"\"\n",
    "    lambda_max = np.linalg.eigvals(X.T @ (X/X.shape[0]))[0]\n",
    "    beta_1 = np.linalg.norm(beta, ord=1)\n",
    "    min_ai = np.min(a ** 2)\n",
    "    a_2 = np.linalg.norm(a, 2) ** 2\n",
    "    m = 0\n",
    "    if beta_1 > 0:\n",
    "        m = beta_1 * np.log(beta_1/min_ai)\n",
    "    return safety_factor/(np.log(4/p) * lambda_max * max([m, a_2])).real"
   ]
  },
  {
   "cell_type": "code",
   "execution_count": 76,
   "id": "8fffcf61-3b4d-44d9-be66-750321914106",
   "metadata": {},
   "outputs": [
    {
     "name": "stdout",
     "output_type": "stream",
     "text": [
      "8.249629874866925e-05\n"
     ]
    }
   ],
   "source": [
    "print(generate_gamma(0.01, generate_inputs(50, 200), generate_unif(0.01, 0.3, 200), generate_unif(-10, 10, 200)))"
   ]
  },
  {
   "cell_type": "markdown",
   "id": "62ab0b10-fb12-4b2d-8acb-ba1cdb451256",
   "metadata": {},
   "source": [
    "Lastly, we prepare the simulation:"
   ]
  },
  {
   "cell_type": "code",
   "execution_count": 77,
   "id": "0d9ba13e-0c6a-45b9-b16c-01c4befb64de",
   "metadata": {},
   "outputs": [],
   "source": [
    "def run(n, d, steps, sample_freq=10, input_mean=0, input_std=1, a_min=0.01, a_max=0.3, b_min=-10, b_max=10, p=0.01, \n",
    "        override_gamma = None, override_alpha = None, override_beta = None, override_X = None, \n",
    "        gradient_step=stochastic_gradient_step):\n",
    "    \"\"\"\n",
    "    Train the network for a given number of steps.\n",
    "    \n",
    "    Output:\n",
    "    Two halves of the gradient as well as the training set and the interpolating parameter\n",
    "    for further statistical usage. Also returns history.\n",
    "    \"\"\"\n",
    "    def default_or_compute(default_value, generator):\n",
    "        if not default_value is None:\n",
    "            return default_value\n",
    "        return generator()\n",
    "    \n",
    "    X = default_or_compute(override_X, lambda: generate_inputs(n, d, input_mean, input_std))\n",
    "    a = default_or_compute(override_alpha, lambda: generate_unif(a_min, a_max, d))\n",
    "    b = default_or_compute(override_beta, lambda: generate_unif(b_min, b_max, d))\n",
    "    s = default_or_compute(override_gamma, lambda: generate_gamma(p, X, a, b))\n",
    "    \n",
    "    samples_length = int(steps/sample_freq)\n",
    "    w_upper_history = np.array([a] * samples_length)\n",
    "    w_lower_history = np.array([a] * samples_length)\n",
    "    step_number = np.array([0] * samples_length)\n",
    "    \n",
    "    w_upper = a\n",
    "    w_lower = np.copy(a)\n",
    "    j = 1\n",
    "    for k in range(steps):\n",
    "        w_upper, w_lower = gradient_step(w_upper, w_lower, s, X, b)\n",
    "        \n",
    "        if k % sample_freq == 0 and k != 0:\n",
    "            w_upper_history[j] = w_upper\n",
    "            w_lower_history[j] = w_lower\n",
    "            step_number[j] = k\n",
    "            j += 1\n",
    "        \n",
    "    return w_upper, w_lower, X, b, w_upper_history, w_lower_history, step_number"
   ]
  },
  {
   "cell_type": "markdown",
   "id": "f7295993-8bab-45fa-bb83-e1d73459450a",
   "metadata": {},
   "source": [
    "We can now run some statistics..."
   ]
  },
  {
   "cell_type": "code",
   "execution_count": 78,
   "id": "d691d6ec-5922-47a4-ad4e-8e0ae61ab09a",
   "metadata": {},
   "outputs": [],
   "source": [
    "def mse(X, beta, w_upper, w_lower):\n",
    "    \"\"\"\n",
    "    Computes the mean squared error.\n",
    "    \"\"\"\n",
    "    return ((X @ (beta - b_w(w_upper, w_lower))) ** 2).mean()\n",
    "\n",
    "def test_error(new_n, d, beta, w_upper, w_lower, input_mean=0, input_std=1):\n",
    "    X_new = generate_inputs(new_n, d, input_mean, input_std)\n",
    "    return mse(X_new, beta, w_upper, w_lower)\n",
    "\n",
    "def training_error(X, beta, w_upper, w_lower):\n",
    "    return mse(X, beta, w_upper, w_lower)"
   ]
  },
  {
   "cell_type": "markdown",
   "id": "e42b3b42-ab77-4ee2-901d-7e1064406a51",
   "metadata": {},
   "source": [
    "... and plot results."
   ]
  },
  {
   "cell_type": "code",
   "execution_count": 1,
   "id": "f950cc1b-b909-43ef-a517-5b6284b7389a",
   "metadata": {},
   "outputs": [],
   "source": [
    "def plot_error_history(w_upper_history, w_lower_history, X, b, step_number, new_test_n, d, steps, \n",
    "                 input_mean=0, input_std=1):\n",
    "    \"\"\"\n",
    "    Matplotlib utility function to plot training and test errors.\n",
    "    \"\"\"\n",
    "    training_errors = [training_error(X, b, w_upper_history[j], w_lower_history[j]) for j in range(len(w_upper_history))]\n",
    "    test_errors = [test_error(new_test_n, d, b, w_upper_history[j], w_lower_history[j]) for j in range(len(w_upper_history))]\n",
    "    plt.plot(step_number, training_errors, color = 'g', label = \"Training error\")\n",
    "    plt.plot(step_number,test_errors, color='r', label = \"Test error\")\n",
    "    plt.xlabel(\"Steps\")\n",
    "    plt.ylabel(\"Error\")\n",
    "    plt.legend(loc=\"upper right\")\n",
    "    # plt.savefig(f\"n={X.shape[0]}_d={X.shape[1]}_steps={steps}_testn={new_test_n}.png\")"
   ]
  },
  {
   "cell_type": "markdown",
   "id": "fd0c593e-c8cb-40bb-8f62-fabe2b346c54",
   "metadata": {},
   "source": [
    "Time to testrun the algorithm! "
   ]
  },
  {
   "cell_type": "code",
   "execution_count": 80,
   "id": "556dfb7e-590c-48df-9c6a-127689333700",
   "metadata": {},
   "outputs": [
    {
     "name": "stdout",
     "output_type": "stream",
     "text": [
      "CPU times: user 1.26 s, sys: 0 ns, total: 1.26 s\n",
      "Wall time: 1.24 s\n"
     ]
    }
   ],
   "source": [
    "%%time\n",
    "steps = 50000\n",
    "n = 100\n",
    "d = 100\n",
    "a = 5\n",
    "w_up, w_low, X, b, w_up_hist, w_low_hist, samples_hist = run(n, d, steps)"
   ]
  },
  {
   "cell_type": "code",
   "execution_count": 81,
   "id": "8c0ba569-6dbf-433e-91e1-7fd7c976af33",
   "metadata": {},
   "outputs": [
    {
     "name": "stdout",
     "output_type": "stream",
     "text": [
      "7.512085342250266\n",
      "655.3406384813135\n"
     ]
    }
   ],
   "source": [
    "print(training_error(X, b, w_up, w_low))\n",
    "print(test_error(1000, d, b, w_up, w_low))"
   ]
  },
  {
   "cell_type": "code",
   "execution_count": 82,
   "id": "e9021093-05ee-41f0-8506-9946c6a93f04",
   "metadata": {},
   "outputs": [
    {
     "data": {
      "image/png": "[encoded data removed]",
      "text/plain": [
       "<Figure size 432x288 with 1 Axes>"
      ]
     },
     "metadata": {
      "needs_background": "light"
     },
     "output_type": "display_data"
    }
   ],
   "source": [
    "%matplotlib inline\n",
    "plot_error_history(w_up_hist, w_low_hist, X, b, samples_hist, 50, d, steps)"
   ]
  },
  {
   "cell_type": "markdown",
   "id": "d2e4ebff-e88f-48d8-a224-44d9ab02674c",
   "metadata": {},
   "source": [
    "Beyond the training and test error, our aim is to observe and possibly quantify sparsity of the final gradient. First, a histogram and a plot of $w$'s coefficients:"
   ]
  },
  {
   "cell_type": "code",
   "execution_count": 83,
   "id": "ed87688a-c24f-42a6-8844-7836a99f3402",
   "metadata": {},
   "outputs": [
    {
     "data": {
      "image/png": "[encoded data removed]",
      "text/plain": [
       "<Figure size 432x288 with 1 Axes>"
      ]
     },
     "metadata": {
      "needs_background": "light"
     },
     "output_type": "display_data"
    }
   ],
   "source": [
    "%matplotlib inline\n",
    "w = np.hstack([w_up, w_low])\n",
    "plt.hist(w, bins = 100)\n",
    "plt.xlabel(\"wi values\")\n",
    "plt.ylabel(\"count\")\n",
    "plt.title(\"Histogram of w\")\n",
    "plt.show()"
   ]
  },
  {
   "cell_type": "code",
   "execution_count": 84,
   "id": "88b4d304-b8df-4ef4-8ba7-859b10a0535e",
   "metadata": {},
   "outputs": [
    {
     "data": {
      "text/plain": [
       "Text(0.5, 1.0, 'Plotting w quantiles')"
      ]
     },
     "execution_count": 84,
     "metadata": {},
     "output_type": "execute_result"
    },
    {
     "data": {
      "image/png": "[encoded data removed]",
      "text/plain": [
       "<Figure size 432x288 with 1 Axes>"
      ]
     },
     "metadata": {
      "needs_background": "light"
     },
     "output_type": "display_data"
    }
   ],
   "source": [
    "%matplotlib inline\n",
    "sorted_w = sorted(w)\n",
    "plt.plot(sorted_w)\n",
    "plt.xlabel(\"Index k\")\n",
    "plt.ylabel(\"Value w[k]\")\n",
    "plt.title(\"Plotting w quantiles\")"
   ]
  },
  {
   "cell_type": "markdown",
   "id": "8e32e396-38c3-4f6e-9616-1cf550e2a6e4",
   "metadata": {},
   "source": [
    "The same with $\\beta_w$:"
   ]
  },
  {
   "cell_type": "code",
   "execution_count": 104,
   "id": "1c7da8c5-55e3-4ca8-beef-2e1172991d45",
   "metadata": {},
   "outputs": [
    {
     "data": {
      "image/png": "[encoded data removed]",
      "text/plain": [
       "<Figure size 432x288 with 1 Axes>"
      ]
     },
     "metadata": {
      "needs_background": "light"
     },
     "output_type": "display_data"
    }
   ],
   "source": [
    "%matplotlib inline\n",
    "plt.hist(b_w(w_up, w_low), bins = 150)\n",
    "plt.xlabel(\"b_w_i values\")\n",
    "plt.ylabel(\"count\")\n",
    "plt.title(\"Histogram of b_w\")\n",
    "plt.show()"
   ]
  },
  {
   "cell_type": "code",
   "execution_count": 105,
   "id": "fda6d666-7dbd-4726-8b8d-5f685b04a0ae",
   "metadata": {},
   "outputs": [
    {
     "data": {
      "text/plain": [
       "Text(0.5, 1.0, 'Plotting b_w quantiles')"
      ]
     },
     "execution_count": 105,
     "metadata": {},
     "output_type": "execute_result"
    },
    {
     "data": {
      "image/png": "[encoded data removed]",
      "text/plain": [
       "<Figure size 432x288 with 1 Axes>"
      ]
     },
     "metadata": {
      "needs_background": "light"
     },
     "output_type": "display_data"
    }
   ],
   "source": [
    "%matplotlib inline\n",
    "sorted_bw = sorted(b_w(w_up, w_low))\n",
    "plt.plot(sorted_bw)\n",
    "plt.xlabel(\"Index k\")\n",
    "plt.ylabel(\"Value b_w[k]\")\n",
    "plt.title(\"Plotting b_w quantiles\")"
   ]
  },
  {
   "cell_type": "markdown",
   "id": "8385c33f-9431-477c-b06c-b26ac705bb3c",
   "metadata": {},
   "source": [
    "Notice the scales of the $\\beta_w$ plots: we indeed observe a remarkable sparsity in the final gradient $w$ - about half the coefficients are 0 - as well as $\\beta_w$ where all coefficients have an absolute value $ < 10^{-10}$. To plot the marginals of both $w$ and $\\beta_w$:"
   ]
  },
  {
   "cell_type": "code",
   "execution_count": 108,
   "id": "4dd8b253-6a25-4c1f-beb8-4a9c755d2eab",
   "metadata": {},
   "outputs": [
    {
     "name": "stdout",
     "output_type": "stream",
     "text": [
      "CPU times: user 2min 38s, sys: 0 ns, total: 2min 38s\n",
      "Wall time: 2min 39s\n"
     ]
    }
   ],
   "source": [
    "%%time\n",
    "iterations = 100\n",
    "\n",
    "steps = 100000\n",
    "n = 100\n",
    "d = 102\n",
    "\n",
    "# Maintain the same inputs throughout all the runs.\n",
    "p = 0.01\n",
    "gen_X = generate_inputs(n, d)\n",
    "gen_b = generate_unif(-10, 10, d)\n",
    "gen_a = generate_unif(0.01, 0.3, d)\n",
    "gen_s = generate_gamma(p, gen_X, gen_a, gen_b)\n",
    "\n",
    "w_up_avg = np.zeros(d)\n",
    "w_low_avg = np.zeros(d)\n",
    "w_up_hist = np.zeros((iterations, d))\n",
    "w_low_hist = np.zeros((iterations, d))\n",
    "\n",
    "for k in range(iterations):\n",
    "    w_up, w_low, _, _, _, _, _ = run(n, d, steps, sample_freq=steps, p=p, \n",
    "                                                                 override_X=gen_X, override_alpha=gen_a,\n",
    "                                                                 override_beta=gen_b, override_gamma=gen_s)\n",
    "    w_low_hist[k] = w_low\n",
    "    w_up_hist[k] = w_up\n",
    "    w_up_avg += w_up\n",
    "    w_low_avg += w_low\n",
    "    \n",
    "w_up_avg = (1/iterations) * w_up_avg\n",
    "w_low_avg = (1/iterations) * w_low_avg"
   ]
  },
  {
   "cell_type": "code",
   "execution_count": 109,
   "id": "63445719-601e-41bf-9982-6e883f503696",
   "metadata": {},
   "outputs": [],
   "source": [
    "def plot_marginal(u, bins=100):\n",
    "    %matplotlib inline\n",
    "    plt.hist(u, density=True, bins=bins)"
   ]
  },
  {
   "cell_type": "code",
   "execution_count": 110,
   "id": "deb754f7-d894-44b6-a9d4-d817dde142b4",
   "metadata": {},
   "outputs": [
    {
     "data": {
      "text/plain": [
       "Text(0.5, 1.0, 'Marginal of w')"
      ]
     },
     "execution_count": 110,
     "metadata": {},
     "output_type": "execute_result"
    },
    {
     "data": {
      "image/png": "[encoded data removed]",
      "text/plain": [
       "<Figure size 432x288 with 1 Axes>"
      ]
     },
     "metadata": {
      "needs_background": "light"
     },
     "output_type": "display_data"
    }
   ],
   "source": [
    "plot_marginal(np.hstack(np.array([w_up_avg, w_low_avg])))\n",
    "plt.xlabel(\"wi values\")\n",
    "plt.ylabel(\"count\")\n",
    "plt.title(\"Marginal of w\")"
   ]
  },
  {
   "cell_type": "code",
   "execution_count": 111,
   "id": "33b8378a-0658-4aff-bf6d-c659e21b1205",
   "metadata": {},
   "outputs": [
    {
     "data": {
      "text/plain": [
       "Text(0.5, 1.0, 'Marginal of b_w')"
      ]
     },
     "execution_count": 111,
     "metadata": {},
     "output_type": "execute_result"
    },
    {
     "data": {
      "image/png": "[encoded data removed]",
      "text/plain": [
       "<Figure size 432x288 with 1 Axes>"
      ]
     },
     "metadata": {
      "needs_background": "light"
     },
     "output_type": "display_data"
    }
   ],
   "source": [
    "plot_marginal(b_w(w_up_avg, w_low_avg), bins=150)\n",
    "plt.xlabel(\"b_w_i values\")\n",
    "plt.ylabel(\"count\")\n",
    "plt.title(\"Marginal of b_w\")"
   ]
  },
  {
   "cell_type": "markdown",
   "id": "d94cc171-355f-4d79-bc96-27b72453d01d",
   "metadata": {},
   "source": [
    "We observe that in $w_{\\infty}$ each coefficient is $0$ with high probability, and the same goes for $\\beta_\\infty$."
   ]
  },
  {
   "cell_type": "markdown",
   "id": "db9ecb64-75d2-4be7-8349-b57ae78fd41d",
   "metadata": {},
   "source": [
    "We can also compute:\n",
    "$$\n",
    "\\mathbb{E}\\left[||\\beta - \\beta^*||^2\\right]\n",
    "$$\n",
    "in the following cell:"
   ]
  },
  {
   "cell_type": "code",
   "execution_count": 112,
   "id": "4ce0df14-07f2-42d3-874d-c3674f20a757",
   "metadata": {},
   "outputs": [
    {
     "name": "stdout",
     "output_type": "stream",
     "text": [
      "E[||b-b*||^2] = 262.8804713304351\n",
      "std(||b - b*||^2) = 1.867381946349515\n",
      "E[(b-b*) component-wise] = -0.002969618185369124\n",
      "std((b-b*) component-wise) = 1.6053817939092359\n"
     ]
    }
   ],
   "source": [
    "sqeuclidean = lambda x: np.inner(x, x)\n",
    "differences = b_w(w_up_hist, w_low_hist) - gen_b\n",
    "squared_norms = [sqeuclidean(b_w(w_up_hist[j], w_low_hist[j]) - gen_b) for j in range(w_up_hist.shape[0])]\n",
    "mean = np.mean(squared_norms)\n",
    "\n",
    "print(f\"E[||b-b*||^2] = {mean}\")\n",
    "print(f\"std(||b - b*||^2) = {np.std(squared_norms)}\") \n",
    "print(f\"E[(b-b*) component-wise] = {differences.mean()}\") # E(marginal of (b-b*))\n",
    "print(f\"std((b-b*) component-wise) = {differences.std()}\") # std(marginal of (b-b*))"
   ]
  },
  {
   "cell_type": "markdown",
   "id": "71610d9d-a5ec-4928-9fa7-c136ac48426a",
   "metadata": {},
   "source": [
    "## Characterizing the distribution of beta"
   ]
  },
  {
   "cell_type": "markdown",
   "id": "31d7982d-e7b3-4b9b-8dd3-987182b85875",
   "metadata": {},
   "source": [
    "Now, let's explore a different path and try to check that:\n",
    "$$\n",
    "\\beta_\\infty^\\alpha = \\arg \\min\\left\\{\\phi_\\alpha(\\beta) \\ | \\ \\beta \\in \\mathbb{R}^d, \\ X\\beta = y\\right\\}\n",
    "$$\n",
    "where:\n",
    "$$\n",
    "\\phi_{\\alpha}(\\beta) = \\frac{1}{4}\\sum_{i=1}^d \\beta_i \\sinh^{-1}\\left(\\frac{\\beta_i}{2\\alpha_i^2}\\right)-\\sqrt{\\beta_i^2 + 4\\alpha_i^4} = \\frac{1}{4}\\sum_{i=1}^d \\phi_{\\alpha_i}(\\beta_i)\n",
    "$$\n",
    "We first compute $\\frac{\\partial \\phi_{\\alpha}}{\\partial \\beta_i}(\\beta) = \\frac{1}{4}\\phi_{\\alpha_i}'(\\beta_i)$:\n",
    "$$\n",
    "\\phi_{\\alpha_i}'(\\beta_i) = \\sinh^{-1}\\left(\\frac{\\beta_i}{2\\alpha_i^2}\\right)\n",
    "$$\n",
    "And thus, applying $\\sinh^{-1}$ component-wise:\n",
    "$$\n",
    "\\nabla \\phi_{\\alpha}(\\beta) = \\frac{1}{4}\\left[\\sinh^{-1}\\left(\\frac{\\beta_i}{2\\alpha_i^2}\\right)\\right]_{1 \\leq i \\leq d} = \\frac{1}{4}\\sinh^{-1}\\left(\\frac{\\beta}{2\\alpha^2}\\right)\n",
    "$$\n",
    "Finally, we compute the Hessian, which is a diagonal matrix:\n",
    "$$\n",
    "H_{\\phi_{\\alpha}}(\\beta) = \\frac{1}{4}\\text{diag}\\left[\\frac{1}{\\sqrt{\\beta_i^2 + 4\\alpha_i^4}}\\right]_{1 \\leq i \\leq d}\n",
    "$$\n",
    "Note: $\\phi_{\\alpha}(\\beta) = 0 \\iff \\beta = 0$, which is a (global) minimum since $H_{\\phi_{\\alpha}}(0)$ is positive definite since all of its eigenvalues are positive.\n",
    "\n",
    "In fact, since $H_{\\phi_{\\alpha}}(\\beta)$ is positive definite $\\forall \\beta \\in \\mathbb{R}^d$, $\\phi_{\\alpha}$ is **convex** (strongly convex, even)! Let's then simplify the constrained optimization problem, reducing it to an unconstrained optimisation problem by considering $y = 0$, thus $X\\beta = 0$ and thus $\\beta^* = 0$ is an interpolating parametrization of the gradient."
   ]
  },
  {
   "cell_type": "code",
   "execution_count": 113,
   "id": "2864bd69-87ea-4fb3-b22a-886fb5fc77ae",
   "metadata": {},
   "outputs": [
    {
     "name": "stdout",
     "output_type": "stream",
     "text": [
      "CPU times: user 151 ms, sys: 0 ns, total: 151 ms\n",
      "Wall time: 63.2 ms\n"
     ]
    }
   ],
   "source": [
    "%%time\n",
    "steps = 100\n",
    "n = 100\n",
    "d = 100\n",
    "\n",
    "beta = np.zeros(d) # beta* = 0!\n",
    "\n",
    "w_up, w_low, X, b, w_up_hist, w_low_hist, samples_hist = run(n, d, steps, sample_freq = 1,\n",
    "                                                            override_beta = beta)"
   ]
  },
  {
   "cell_type": "code",
   "execution_count": 114,
   "id": "0fd46f9d-e4a2-4a27-b084-21a0d46cc587",
   "metadata": {},
   "outputs": [
    {
     "name": "stdout",
     "output_type": "stream",
     "text": [
      "0.0\n"
     ]
    }
   ],
   "source": [
    "print(training_error(X, b, w_up, w_low))"
   ]
  },
  {
   "cell_type": "code",
   "execution_count": 115,
   "id": "e73d78f3-fb55-4c97-a640-0b13661df3ef",
   "metadata": {},
   "outputs": [
    {
     "data": {
      "text/plain": [
       "[<matplotlib.lines.Line2D at 0x7f9658d0eb50>]"
      ]
     },
     "execution_count": 115,
     "metadata": {},
     "output_type": "execute_result"
    },
    {
     "data": {
      "image/png": "[encoded data removed]",
      "text/plain": [
       "<Figure size 432x288 with 1 Axes>"
      ]
     },
     "metadata": {
      "needs_background": "light"
     },
     "output_type": "display_data"
    }
   ],
   "source": [
    "%matplotlib inline\n",
    "bw = b_w(w_up, w_low)\n",
    "plt.plot(bw)"
   ]
  },
  {
   "cell_type": "markdown",
   "id": "4f2863f9-d24c-410f-aee2-33584b260f4c",
   "metadata": {},
   "source": [
    "The SGD has indeed converged to $\\beta^* = 0$ (and super quickly too), let's check the history of the norm of $\\beta_w$:"
   ]
  },
  {
   "cell_type": "code",
   "execution_count": 116,
   "id": "8c76972c-19d2-4f19-8e67-d1e87b377ece",
   "metadata": {},
   "outputs": [],
   "source": [
    "def plot_norm_history(w_up_hist, w_low_hist, sample_times, ylim=1e-12):\n",
    "    plt.plot(sample_times, np.linalg.norm(b_w(w_up_hist, w_low_hist), axis=1))\n",
    "    plt.ylim(-ylim, ylim)"
   ]
  },
  {
   "cell_type": "code",
   "execution_count": 117,
   "id": "84b5e187-6f29-483c-9adc-2bdcbbb8033b",
   "metadata": {},
   "outputs": [
    {
     "data": {
      "image/png": "[encoded data removed]",
      "text/plain": [
       "<Figure size 432x288 with 1 Axes>"
      ]
     },
     "metadata": {
      "needs_background": "light"
     },
     "output_type": "display_data"
    }
   ],
   "source": [
    "plot_norm_history(w_up_hist, w_low_hist, samples_hist)"
   ]
  },
  {
   "cell_type": "markdown",
   "id": "d0745006-ea6f-48e0-bff8-c614cdd89937",
   "metadata": {},
   "source": [
    "Let's try to tickle this lightspeed convergence a bit by initialising further from $0$ - recall that the initialisation $\\alpha$ is, by default, a random vector where each component $\\alpha_i \\sim^{\\text{iid}} \\text{Unif}[0.01,0.3]$. Let's push the uniform mean further:"
   ]
  },
  {
   "cell_type": "code",
   "execution_count": 118,
   "id": "3d527ef8-fad1-4e93-99b0-c367f61281ce",
   "metadata": {},
   "outputs": [
    {
     "name": "stdout",
     "output_type": "stream",
     "text": [
      "CPU times: user 110 ms, sys: 0 ns, total: 110 ms\n",
      "Wall time: 87.5 ms\n"
     ]
    }
   ],
   "source": [
    "%%time\n",
    "steps = 5 #VERY few steps...\n",
    "n = 100\n",
    "d = 100\n",
    "\n",
    "beta = np.zeros(d) \n",
    "alpha = generate_unif(300, 1000, d)\n",
    "\n",
    "w_up, w_low, X, b, w_up_hist, w_low_hist, samples_hist = run(n, d, steps, sample_freq = 1,\n",
    "                                                            override_beta = beta,\n",
    "                                                            override_alpha = alpha)"
   ]
  },
  {
   "cell_type": "code",
   "execution_count": 119,
   "id": "45efe345-cbec-4bf2-aca5-06d377f2ec7d",
   "metadata": {},
   "outputs": [
    {
     "name": "stdout",
     "output_type": "stream",
     "text": [
      "0.0\n"
     ]
    }
   ],
   "source": [
    "print(training_error(X, b, w_up, w_low))"
   ]
  },
  {
   "cell_type": "code",
   "execution_count": 120,
   "id": "0320a805-cffb-4353-b8e3-5d5baf3655e6",
   "metadata": {},
   "outputs": [
    {
     "data": {
      "image/png": "[encoded data removed]",
      "text/plain": [
       "<Figure size 432x288 with 1 Axes>"
      ]
     },
     "metadata": {
      "needs_background": "light"
     },
     "output_type": "display_data"
    }
   ],
   "source": [
    "plot_norm_history(w_up_hist, w_low_hist, samples_hist)"
   ]
  },
  {
   "cell_type": "markdown",
   "id": "889adfbb-9510-4f0b-a747-ae4ad1601b96",
   "metadata": {},
   "source": [
    "That's weird. How can $\\beta_{w_t} = 0$ at all times? That's actually thanks to the initialisation. Recall that $w_{0,+} = w_{0,-} = \\alpha$, thus $b_{w_0} = a^2 - a^2 = 0$. Computing the first gradient update:\n",
    "$$\n",
    "w_{1,\\pm} = w_{0,\\pm}\\mp\\gamma\\langle\\beta_{w_0}-\\beta^*, x_{i_0}\\rangle x_{i_0} \\odot w_{0, \\pm} = w_{0,\\pm}\\mp\\gamma\\langle 0-0, x_{i_0}\\rangle x_{i_0} \\odot w_{0, \\pm} = w_{0,\\pm}\n",
    "$$"
   ]
  },
  {
   "cell_type": "markdown",
   "id": "a8cb4212-6c11-48b4-a22f-7f47ddabb71e",
   "metadata": {},
   "source": [
    "By induction, it follows that $\\forall t \\ w_{t} = w_0$, thus $\\forall t \\ \\beta_{w_t} = \\beta_{w_0} = 0$."
   ]
  },
  {
   "cell_type": "markdown",
   "id": "d8f118ec-0429-4948-9123-6f008d276ceb",
   "metadata": {},
   "source": [
    "Let's try to make this more interesting by choosing $\\beta^* \\in \\ker(X) \\setminus \\{0\\}$, e.g. $\\beta^*$ a basis vector of $\\ker(X)$. This time:\n",
    "$$\n",
    "\\begin{align}\n",
    "w_{t+1,\\pm} &= w_{t,\\pm}\\mp\\gamma\\langle\\beta_{w_t}-\\beta^*, x_{i_t}\\rangle x_{i_t} \\odot w_{t, \\pm} \\\\\n",
    "&= w_{t,\\pm}\\mp \\left(\\gamma\\langle\\beta_{w_t}, x_{i_t}\\rangle x_{i_t} \\odot w_{t, \\pm}-\\gamma\\underbrace{\\langle\\beta^*, x_{i_t}\\rangle}_{=0} x_{i_t} \\odot w_{t, \\pm}\\right) \\\\\n",
    "&= w_{t,\\pm}\\mp \\gamma\\langle\\beta_{w_t}, x_{i_t}\\rangle x_{i_t} \\odot w_{t, \\pm}\n",
    "\\end{align} \n",
    "$$"
   ]
  },
  {
   "cell_type": "code",
   "execution_count": 121,
   "id": "377a0012-530b-413a-8afe-61d58c25c202",
   "metadata": {},
   "outputs": [],
   "source": [
    "def project(u, v):\n",
    "    \"\"\"\n",
    "    Project u on to v, with ||v|| = 1.\n",
    "    \"\"\"\n",
    "    return np.dot(u,v) * v"
   ]
  },
  {
   "cell_type": "code",
   "execution_count": 122,
   "id": "db7c666e-cd30-44fb-ae39-76c08d630b50",
   "metadata": {},
   "outputs": [
    {
     "name": "stdout",
     "output_type": "stream",
     "text": [
      "CPU times: user 846 ms, sys: 0 ns, total: 846 ms\n",
      "Wall time: 820 ms\n"
     ]
    }
   ],
   "source": [
    "%%time\n",
    "steps = 3500\n",
    "n = 100\n",
    "d = n + 1 #need d > n to ensure that dim(ker(X)) > 0\n",
    "\n",
    "computed_X = generate_inputs(n, d)\n",
    "norm = 400000\n",
    "beta = sp.null_space(computed_X).T[0] #null_space computes an orthonormal basis, therefore ||beta|| = 1\n",
    "alpha = generate_unif(1, 10, d)\n",
    "alpha = alpha - project(alpha, beta) #pick initialisation at an orthogonal direction from beta\n",
    "\n",
    "w_up, w_low, X, b, w_up_hist, w_low_hist, samples_hist = run(n, d, steps, sample_freq = 1,\n",
    "                                                            override_beta = norm * beta,\n",
    "                                                            override_alpha = alpha,\n",
    "                                                            override_X = computed_X)"
   ]
  },
  {
   "cell_type": "code",
   "execution_count": 123,
   "id": "4327c7bf-3caa-4fa0-8d6a-096d012cb926",
   "metadata": {},
   "outputs": [
    {
     "name": "stdout",
     "output_type": "stream",
     "text": [
      "5.469481311542245e-20\n"
     ]
    }
   ],
   "source": [
    "print(training_error(X, b, w_up, w_low))"
   ]
  },
  {
   "cell_type": "code",
   "execution_count": 124,
   "id": "3a3b9596-daff-4338-9cdf-c591a3941fbd",
   "metadata": {},
   "outputs": [
    {
     "data": {
      "image/png": "[encoded data removed]",
      "text/plain": [
       "<Figure size 432x288 with 1 Axes>"
      ]
     },
     "metadata": {
      "needs_background": "light"
     },
     "output_type": "display_data"
    }
   ],
   "source": [
    "plot_norm_history(w_up_hist, w_low_hist, samples_hist, ylim=1e-9)"
   ]
  },
  {
   "cell_type": "markdown",
   "id": "ae16c5b6-5fe1-401d-887e-56322dd47733",
   "metadata": {},
   "source": [
    "With a random (usually non orthogonal) initialisation, $\\beta_{w_t}$ is very close to $0$ at all times."
   ]
  }
 ],
 "metadata": {
  "kernelspec": {
   "display_name": "Python 3 (ipykernel)",
   "language": "python",
   "name": "python3"
  },
  "language_info": {
   "codemirror_mode": {
    "name": "ipython",
    "version": 3
   },
   "file_extension": ".py",
   "mimetype": "text/x-python",
   "name": "python",
   "nbconvert_exporter": "python",
   "pygments_lexer": "ipython3",
   "version": "3.8.10"
  }
 },
 "nbformat": 4,
 "nbformat_minor": 5
}
